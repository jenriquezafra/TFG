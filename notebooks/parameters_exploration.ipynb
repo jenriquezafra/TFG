{
 "cells": [
  {
   "cell_type": "code",
   "execution_count": null,
   "id": "37be4f63",
   "metadata": {},
   "outputs": [
    {
     "name": "stdout",
     "output_type": "stream",
     "text": [
      "Current working directory: c:\\Users\\VF6603\\OneDrive - ENGIE\\Escritorio\\Codes\\TFG\n"
     ]
    }
   ],
   "source": [
    "import sys\n",
    "import os\n",
    "import numpy as np\n",
    "import pandas as pd\n",
    "import matplotlib.pyplot as plt\n",
    "from scipy.integrate import solve_ivp\n",
    "from math import log\n",
    "from mpl_toolkits.mplot3d import Axes3D\n",
    "from mpl_toolkits.mplot3d.art3d import Line3DCollection\n",
    "from matplotlib.collections import LineCollection\n",
    "\n",
    "print(\"Current working directory:\", os.getcwd())"
   ]
  },
  {
   "cell_type": "markdown",
   "id": "791ee726",
   "metadata": {},
   "source": [
    "# Análisis de LCEs vs $\\sigma$\n",
    "Hacemos barridos para distintos de valores de $x_0$"
   ]
  },
  {
   "cell_type": "code",
   "execution_count": null,
   "id": "49010de4",
   "metadata": {},
   "outputs": [
    {
     "data": {
      "text/plain": [
       "array([[0.49263619, 0.30336754, 0.26856778, 0.98515715]])"
      ]
     },
     "execution_count": 16,
     "metadata": {},
     "output_type": "execute_result"
    }
   ],
   "source": [
    "# definimos los parametros del sistema\n",
    "r = np.array(\n",
    "    [1, 0.72, 1.53, 1.27]\n",
    ")\n",
    "\n",
    "a = np.array([\n",
    "    [1, 1.09, 1.52, 0],\n",
    "    [0, 1, 0.44, 1.36],\n",
    "    [2.33, 0, 1, 0.47],\n",
    "    [1.21, 0.51, 0.35, 1]\n",
    "])\n",
    "\n",
    "x0 = np.array([0.5, 0.5, 0.5, 0.5])\n",
    "\n",
    "# generamos un nuevo x0:\n",
    "rng = np.random.default_rng(73)\n",
    "x0 = np.array(\n",
    "    [[rng.random() for _ in range(4)]]\n",
    ")\n",
    "print"
   ]
  },
  {
   "cell_type": "code",
   "execution_count": 20,
   "id": "bd6ae06b",
   "metadata": {},
   "outputs": [
    {
     "data": {
      "text/plain": [
       "0.05"
      ]
     },
     "execution_count": 20,
     "metadata": {},
     "output_type": "execute_result"
    }
   ],
   "source": [
    "(5000/1e5)"
   ]
  },
  {
   "cell_type": "code",
   "execution_count": 21,
   "id": "42af1aaf",
   "metadata": {},
   "outputs": [
    {
     "ename": "IndexError",
     "evalue": "too many indices for array: array is 1-dimensional, but 2 were indexed",
     "output_type": "error",
     "traceback": [
      "\u001b[1;31m---------------------------------------------------------------------------\u001b[0m",
      "\u001b[1;31mIndexError\u001b[0m                                Traceback (most recent call last)",
      "Cell \u001b[1;32mIn[21], line 4\u001b[0m\n\u001b[0;32m      2\u001b[0m \u001b[38;5;28;01mfrom\u001b[39;00m \u001b[38;5;21;01msrc\u001b[39;00m\u001b[38;5;21;01m.\u001b[39;00m\u001b[38;5;21;01mstoc_system\u001b[39;00m \u001b[38;5;28;01mimport\u001b[39;00m StochasticSystem\n\u001b[0;32m      3\u001b[0m model \u001b[38;5;241m=\u001b[39m StochasticSystem(a, r, x0, \u001b[38;5;241m5000\u001b[39m, \u001b[38;5;241m5000\u001b[39m\u001b[38;5;241m/\u001b[39m\u001b[38;5;241m1e5\u001b[39m, [\u001b[38;5;241m0.04\u001b[39m, \u001b[38;5;241m0.04\u001b[39m, \u001b[38;5;241m0.04\u001b[39m, \u001b[38;5;241m0.04\u001b[39m])\n\u001b[1;32m----> 4\u001b[0m t, x \u001b[38;5;241m=\u001b[39m \u001b[43mmodel\u001b[49m\u001b[38;5;241;43m.\u001b[39;49m\u001b[43meuler_maruyama\u001b[49m\u001b[43m(\u001b[49m\u001b[43m)\u001b[49m\n\u001b[0;32m      5\u001b[0m lces \u001b[38;5;241m=\u001b[39m model\u001b[38;5;241m.\u001b[39mestimate_LCE1_Wolf(\n\u001b[0;32m      6\u001b[0m             x, evol_time\u001b[38;5;241m=\u001b[39m\u001b[38;5;241m500\u001b[39m,\n\u001b[0;32m      7\u001b[0m             min_separation\u001b[38;5;241m=\u001b[39m\u001b[38;5;241m180\u001b[39m,\n\u001b[0;32m      8\u001b[0m             max_replacements\u001b[38;5;241m=\u001b[39m\u001b[38;5;241m500\u001b[39m,\n\u001b[0;32m      9\u001b[0m             start_indices\u001b[38;5;241m=\u001b[39m \u001b[38;5;241m1e5\u001b[39m \u001b[38;5;241m/\u001b[39m\u001b[38;5;241m/\u001b[39m \u001b[38;5;241m2\u001b[39m\n\u001b[0;32m     10\u001b[0m         )\n\u001b[0;32m     11\u001b[0m \u001b[38;5;28mprint\u001b[39m(lces[\u001b[38;5;241m0\u001b[39m])\n",
      "File \u001b[1;32mc:\\Users\\VF6603\\OneDrive - ENGIE\\Escritorio\\Codes\\TFG\\src\\stoc_system.py:61\u001b[0m, in \u001b[0;36mStochasticSystem.euler_maruyama\u001b[1;34m(self)\u001b[0m\n\u001b[0;32m     58\u001b[0m t \u001b[38;5;241m=\u001b[39m t_vals[n]\n\u001b[0;32m     60\u001b[0m \u001b[38;5;66;03m# sistema original\u001b[39;00m\n\u001b[1;32m---> 61\u001b[0m F \u001b[38;5;241m=\u001b[39m \u001b[38;5;28;43mself\u001b[39;49m\u001b[38;5;241;43m.\u001b[39;49m\u001b[43msystem\u001b[49m\u001b[43m(\u001b[49m\u001b[43mt\u001b[49m\u001b[43m,\u001b[49m\u001b[43m \u001b[49m\u001b[43mx\u001b[49m\u001b[43m)\u001b[49m \n\u001b[0;32m     63\u001b[0m \u001b[38;5;66;03m# vector del ruido\u001b[39;00m\n\u001b[0;32m     64\u001b[0m \u001b[38;5;28;01mfor\u001b[39;00m i \u001b[38;5;129;01min\u001b[39;00m \u001b[38;5;28mrange\u001b[39m(\u001b[38;5;28mself\u001b[39m\u001b[38;5;241m.\u001b[39mN):  \u001b[38;5;66;03m# para cada especie\u001b[39;00m\n\u001b[0;32m     65\u001b[0m     \u001b[38;5;66;03m# creamos una variable aleatoria\u001b[39;00m\n",
      "File \u001b[1;32mc:\\Users\\VF6603\\OneDrive - ENGIE\\Escritorio\\Codes\\TFG\\src\\stoc_system.py:36\u001b[0m, in \u001b[0;36mStochasticSystem.system\u001b[1;34m(self, t, x)\u001b[0m\n\u001b[0;32m     34\u001b[0m dxdt \u001b[38;5;241m=\u001b[39m np\u001b[38;5;241m.\u001b[39mzeros(\u001b[38;5;28mself\u001b[39m\u001b[38;5;241m.\u001b[39mN)\n\u001b[0;32m     35\u001b[0m \u001b[38;5;28;01mfor\u001b[39;00m i \u001b[38;5;129;01min\u001b[39;00m \u001b[38;5;28mrange\u001b[39m(\u001b[38;5;28mself\u001b[39m\u001b[38;5;241m.\u001b[39mN):  \n\u001b[1;32m---> 36\u001b[0m     interaction \u001b[38;5;241m=\u001b[39m np\u001b[38;5;241m.\u001b[39msum(\u001b[38;5;28;43mself\u001b[39;49m\u001b[38;5;241;43m.\u001b[39;49m\u001b[43ma\u001b[49m\u001b[43m[\u001b[49m\u001b[43mi\u001b[49m\u001b[43m,\u001b[49m\u001b[43m:\u001b[49m\u001b[43m]\u001b[49m\u001b[38;5;241m*\u001b[39mx)\n\u001b[0;32m     37\u001b[0m     dxdt[i] \u001b[38;5;241m=\u001b[39m \u001b[38;5;28mself\u001b[39m\u001b[38;5;241m.\u001b[39mr[i] \u001b[38;5;241m*\u001b[39m x[i] \u001b[38;5;241m*\u001b[39m (\u001b[38;5;241m1\u001b[39m \u001b[38;5;241m-\u001b[39m interaction)\n\u001b[0;32m     38\u001b[0m \u001b[38;5;28;01mreturn\u001b[39;00m dxdt\n",
      "\u001b[1;31mIndexError\u001b[0m: too many indices for array: array is 1-dimensional, but 2 were indexed"
     ]
    }
   ],
   "source": [
    "# PRUEBA DE TIEMPO DE UN WOLF\n",
    "from src.stoc_system import StochasticSystem\n",
    "model = StochasticSystem(a, r, x0, 5000, 5000/1e5, [0.04, 0.04, 0.04, 0.04])\n",
    "t, x = model.euler_maruyama()\n",
    "lces = model.estimate_LCE1_Wolf(\n",
    "            x, evol_time=500,\n",
    "            min_separation=180,\n",
    "            max_replacements=500,\n",
    "            start_indices= 1e5 // 2\n",
    "        )\n",
    "print(lces[0])"
   ]
  },
  {
   "cell_type": "code",
   "execution_count": null,
   "id": "dbf0117c",
   "metadata": {},
   "outputs": [],
   "source": [
    "def barrido_LCEs(total_time = 5000, N_points=1e5, max_iters=50, save=False, save_path=None, save_name=None):\n",
    "    \"\"\"Función que realiza un barrido de diferentes intensidades de ruido del sistema y puede guadar los resultados.\n",
    "    :param total_time: Tiempo total de simulación\n",
    "    :param N_points: Número de puntos para el método de Euler–Maruyama\n",
    "    :param max_iters: Número máximo de iteraciones para el barrido\n",
    "    :param save: Si True, guarda los resultados en un archivo CSV\n",
    "    :param save_path: Ruta donde se guardará el archivo CSV\n",
    "    :param save_name: Nombre del archivo CSV\n",
    "    :return: Array estructurado con campos 'sigma', 'mean' y 'std'\n",
    "        - sigma: valores de ruido utilizados\n",
    "        - mean: media de LCEs obtenida\n",
    "        - std: desviación típica de LCEs\n",
    "    \"\"\"\n",
    "    np.random.seed(2)\n",
    "\n",
    "    # definimos los parametros del sistema\n",
    "    r = np.array([1, 0.72, 1.53, 1.27])\n",
    "    a = np.array([\n",
    "        [1, 1.09, 1.52, 0],\n",
    "        [0, 1, 0.44, 1.36],\n",
    "        [2.33, 0, 1, 0.47],\n",
    "        [1.21, 0.51, 0.35, 1]\n",
    "    ])\n",
    "    x0 = np.array([0.5, 0.5, 0.5, 0.5])\n",
    "\n",
    "    # creamos algunas variables\n",
    "    array_sigmas = np.linspace(start=0.0, stop=1.5, num=max_iters)\n",
    "\n",
    "    # definimos dtype estructurado: sigma, mean, std\n",
    "    dtype = [('sigma', float), ('mean', float), ('std', float)]\n",
    "    resultados = np.zeros(max_iters, dtype=dtype)\n",
    "\n",
    "    for idx, sigma in enumerate(array_sigmas):\n",
    "        print(f\"{idx+1}/{max_iters}  sigma={sigma:.3f}...\", end='\\r')\n",
    "\n",
    "        # creamos el vector del ruido\n",
    "        vect_ruido = sigma * np.array([0.8, 0.9, 1.0, 1.1])\n",
    "\n",
    "        # resolvemos el sistema\n",
    "        model = StochasticSystem(\n",
    "            r, a, x0,\n",
    "            total_time=total_time,\n",
    "            dt=total_time / N_points,\n",
    "            sigma=vect_ruido\n",
    "        )\n",
    "        T, X = model.euler_maruyama()\n",
    "\n",
    "        # hallamos los LCEs con el método de Wolf\n",
    "        lambda1, vect_lambdas = model.estimate_LCE1_Wolf(\n",
    "            X, evol_time=500,\n",
    "            min_separation=180,\n",
    "            max_replacements=500,\n",
    "            start_indices=N_points // 2\n",
    "        )\n",
    "\n",
    "        # hallamos la media y la std\n",
    "        mean_val = np.nanmean(vect_lambdas)\n",
    "        std_val = np.nanstd(vect_lambdas, ddof=1)\n",
    "\n",
    "        # guardamos los resultados\n",
    "        resultados['sigma'][idx] = sigma\n",
    "        resultados['mean'][idx] = mean_val\n",
    "        resultados['std'][idx] = std_val\n",
    "\n",
    "    # guardado opcional\n",
    "    if save and save_path and save_name:\n",
    "        import pandas as pd\n",
    "        df = pd.DataFrame(resultados)\n",
    "        df.to_csv(f\"{save_path}/{save_name}.csv\", index=False)\n",
    "\n",
    "    return resultados"
   ]
  },
  {
   "cell_type": "code",
   "execution_count": null,
   "id": "1be8d19e",
   "metadata": {},
   "outputs": [],
   "source": [
    "# prueba\n",
    "barrido_test = barrido_LCEs(\n",
    "    total_time=5000,\n",
    "    N_points=1e5,\n",
    "    max_iters=50\n",
    ")"
   ]
  }
 ],
 "metadata": {
  "kernelspec": {
   "display_name": "Python 3",
   "language": "python",
   "name": "python3"
  },
  "language_info": {
   "codemirror_mode": {
    "name": "ipython",
    "version": 3
   },
   "file_extension": ".py",
   "mimetype": "text/x-python",
   "name": "python",
   "nbconvert_exporter": "python",
   "pygments_lexer": "ipython3",
   "version": "3.12.5"
  }
 },
 "nbformat": 4,
 "nbformat_minor": 5
}
