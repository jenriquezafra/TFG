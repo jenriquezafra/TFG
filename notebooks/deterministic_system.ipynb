{
 "cells": [
  {
   "cell_type": "markdown",
   "id": "3707d449",
   "metadata": {},
   "source": [
    "## 0. Carga de librerias"
   ]
  },
  {
   "cell_type": "code",
   "execution_count": 8,
   "id": "70b02356",
   "metadata": {},
   "outputs": [],
   "source": [
    "import sys\n",
    "import os\n",
    "import numpy as np\n",
    "import pandas as pd\n",
    "import matplotlib.pyplot as plt\n",
    "from scipy.integrate import solve_ivp\n",
    "from math import log\n",
    "from mpl_toolkits.mplot3d import Axes3D\n",
    "from mpl_toolkits.mplot3d.art3d import Line3DCollection\n",
    "from matplotlib.collections import LineCollection"
   ]
  },
  {
   "cell_type": "code",
   "execution_count": 9,
   "id": "37149d68",
   "metadata": {},
   "outputs": [],
   "source": [
    "# ajustamos el directorio de trabajo\n",
    "project_root = os.path.abspath(os.path.join(os.getcwd(), '...'))\n",
    "if project_root not in sys.path:\n",
    "    sys.path.append(project_root)"
   ]
  },
  {
   "cell_type": "code",
   "execution_count": 14,
   "id": "432314e8",
   "metadata": {},
   "outputs": [
    {
     "name": "stdout",
     "output_type": "stream",
     "text": [
      "Working directory: c:\\Users\\VF6603\\OneDrive - ENGIE\\Escritorio\\Codes\\TFG\\notebooks\n"
     ]
    }
   ],
   "source": [
    "print(\"Working directory:\", os.getcwd())"
   ]
  },
  {
   "cell_type": "markdown",
   "id": "693c649c",
   "metadata": {},
   "source": [
    "# 1. Modelo determinista\n",
    "Vamos a implementar Lotka-Volterra para $N=4$ especies. Usaremos la expresión\n",
    "$$\n",
    "\\frac{dx_i}{dt} = r_ix_i\\left( 1- \\sum_{j=1}^N a_{ij}x_j \\right)\n",
    "$$"
   ]
  },
  {
   "cell_type": "code",
   "execution_count": 15,
   "id": "e71eb628",
   "metadata": {},
   "outputs": [
    {
     "ename": "ModuleNotFoundError",
     "evalue": "No module named 'src'",
     "output_type": "error",
     "traceback": [
      "\u001b[1;31m---------------------------------------------------------------------------\u001b[0m",
      "\u001b[1;31mModuleNotFoundError\u001b[0m                       Traceback (most recent call last)",
      "Cell \u001b[1;32mIn[15], line 2\u001b[0m\n\u001b[0;32m      1\u001b[0m \u001b[38;5;66;03m# cargamos la función\u001b[39;00m\n\u001b[1;32m----> 2\u001b[0m \u001b[38;5;28;01mfrom\u001b[39;00m \u001b[38;5;21;01msrc\u001b[39;00m\u001b[38;5;21;01m.\u001b[39;00m\u001b[38;5;21;01mfunctions\u001b[39;00m \u001b[38;5;28;01mimport\u001b[39;00m \u001b[38;5;241m*\u001b[39m\n",
      "\u001b[1;31mModuleNotFoundError\u001b[0m: No module named 'src'"
     ]
    }
   ],
   "source": [
    "# cargamos la función\n",
    "from src.functions import *"
   ]
  },
  {
   "cell_type": "markdown",
   "id": "8929dcab",
   "metadata": {},
   "source": [
    "### 1.1. Evolución temporal"
   ]
  },
  {
   "cell_type": "code",
   "execution_count": null,
   "id": "59794a34",
   "metadata": {},
   "outputs": [],
   "source": [
    "# resolvemos con integración numérica\n",
    "N=4\n",
    "r = np.array(\n",
    "    [1, 0.72, 1.53, 1.27]\n",
    ")\n",
    "\n",
    "a = np.array([\n",
    "    [1, 1.09, 1.52, 0],\n",
    "    [0, 1, 0.44, 1.36],\n",
    "    [2.33, 0, 1, 0.47],\n",
    "    [1.21, 0.51, 0.35, 1]\n",
    "])\n",
    "\n",
    "x0 = np.array([0.5, 0.5, 0.5, 0.5])\n",
    "t_span = (0, 500) # con ~1e3 queda chulo\n",
    "t_eval =np.linspace(t_span[0],t_span[1], 100000) \n",
    "sol = solve_ivp(system, t_span, x0, args=(r,a), t_eval = t_eval)\n",
    "print(len(sol.y[0]))"
   ]
  }
 ],
 "metadata": {
  "kernelspec": {
   "display_name": "Python 3",
   "language": "python",
   "name": "python3"
  },
  "language_info": {
   "codemirror_mode": {
    "name": "ipython",
    "version": 3
   },
   "file_extension": ".py",
   "mimetype": "text/x-python",
   "name": "python",
   "nbconvert_exporter": "python",
   "pygments_lexer": "ipython3",
   "version": "3.12.5"
  }
 },
 "nbformat": 4,
 "nbformat_minor": 5
}
