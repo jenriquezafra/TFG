{
 "cells": [
  {
   "metadata": {},
   "cell_type": "markdown",
   "source": [
    "# Introducción\n",
    "tal\n",
    "\n",
    "Cargamos las librerias necesarias"
   ],
   "id": "a51aa286198885d2"
  },
  {
   "metadata": {
    "ExecuteTime": {
     "end_time": "2024-11-25T16:13:20.316703Z",
     "start_time": "2024-11-25T16:13:20.313487Z"
    }
   },
   "cell_type": "code",
   "source": [
    "import numpy as np\n",
    "import pandas as pd\n",
    "import matplotlib.pyplot as plt"
   ],
   "id": "badb7dac5e983bf6",
   "outputs": [],
   "execution_count": 2
  },
  {
   "metadata": {},
   "cell_type": "markdown",
   "source": [
    "# Modelo de Lokta-Volterra\n",
    "balba\n",
    "\n",
    "Tenemos que implementar las ecuaciones\n"
   ],
   "id": "2fb709a5201b4f4d"
  },
  {
   "metadata": {},
   "cell_type": "code",
   "outputs": [],
   "execution_count": null,
   "source": "",
   "id": "b15ba7b281e10634"
  },
  {
   "metadata": {},
   "cell_type": "markdown",
   "source": "# Regulación de densidad",
   "id": "20661fd4f043ea45"
  }
 ],
 "metadata": {
  "kernelspec": {
   "display_name": "Python 3",
   "language": "python",
   "name": "python3"
  },
  "language_info": {
   "codemirror_mode": {
    "name": "ipython",
    "version": 2
   },
   "file_extension": ".py",
   "mimetype": "text/x-python",
   "name": "python",
   "nbconvert_exporter": "python",
   "pygments_lexer": "ipython2",
   "version": "2.7.6"
  }
 },
 "nbformat": 4,
 "nbformat_minor": 5
}
